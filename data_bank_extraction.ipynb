{
 "cells": [
  {
   "cell_type": "code",
   "execution_count": 12,
   "metadata": {
    "collapsed": true
   },
   "outputs": [],
   "source": [
    "import numpy as np\n",
    "import pandas as pd\n",
    "\n",
    "from tools.agency import Agency"
   ]
  },
  {
   "cell_type": "markdown",
   "metadata": {},
   "source": [
    "#### Load bank data"
   ]
  },
  {
   "cell_type": "code",
   "execution_count": 13,
   "metadata": {
    "collapsed": false
   },
   "outputs": [],
   "source": [
    "df = pd.read_csv(\"data/bank.csv\",sep=',')"
   ]
  },
  {
   "cell_type": "code",
   "execution_count": 14,
   "metadata": {
    "collapsed": false
   },
   "outputs": [],
   "source": [
    "df.columns = np.append(df.columns[:3],np.arange(15))"
   ]
  },
  {
   "cell_type": "code",
   "execution_count": 15,
   "metadata": {
    "collapsed": false
   },
   "outputs": [
    {
     "data": {
      "text/html": [
       "<div>\n",
       "<table border=\"1\" class=\"dataframe\">\n",
       "  <thead>\n",
       "    <tr style=\"text-align: right;\">\n",
       "      <th></th>\n",
       "      <th>Customer</th>\n",
       "      <th>Code_Province</th>\n",
       "      <th>Nom_Province</th>\n",
       "      <th>0</th>\n",
       "      <th>1</th>\n",
       "      <th>2</th>\n",
       "      <th>3</th>\n",
       "      <th>4</th>\n",
       "      <th>5</th>\n",
       "      <th>6</th>\n",
       "      <th>7</th>\n",
       "      <th>8</th>\n",
       "      <th>9</th>\n",
       "      <th>10</th>\n",
       "      <th>11</th>\n",
       "      <th>12</th>\n",
       "      <th>13</th>\n",
       "      <th>14</th>\n",
       "    </tr>\n",
       "  </thead>\n",
       "  <tbody>\n",
       "    <tr>\n",
       "      <th>0</th>\n",
       "      <td>1049129</td>\n",
       "      <td>1</td>\n",
       "      <td>ALAVA</td>\n",
       "      <td>0</td>\n",
       "      <td>1</td>\n",
       "      <td>0</td>\n",
       "      <td>0</td>\n",
       "      <td>0</td>\n",
       "      <td>0</td>\n",
       "      <td>0</td>\n",
       "      <td>0</td>\n",
       "      <td>0</td>\n",
       "      <td>0</td>\n",
       "      <td>0</td>\n",
       "      <td>0</td>\n",
       "      <td>0</td>\n",
       "      <td>0.0</td>\n",
       "      <td>0</td>\n",
       "    </tr>\n",
       "    <tr>\n",
       "      <th>1</th>\n",
       "      <td>1049988</td>\n",
       "      <td>1</td>\n",
       "      <td>ALAVA</td>\n",
       "      <td>0</td>\n",
       "      <td>1</td>\n",
       "      <td>0</td>\n",
       "      <td>0</td>\n",
       "      <td>0</td>\n",
       "      <td>0</td>\n",
       "      <td>0</td>\n",
       "      <td>0</td>\n",
       "      <td>0</td>\n",
       "      <td>0</td>\n",
       "      <td>0</td>\n",
       "      <td>0</td>\n",
       "      <td>0</td>\n",
       "      <td>0.0</td>\n",
       "      <td>0</td>\n",
       "    </tr>\n",
       "    <tr>\n",
       "      <th>2</th>\n",
       "      <td>1049457</td>\n",
       "      <td>1</td>\n",
       "      <td>ALAVA</td>\n",
       "      <td>0</td>\n",
       "      <td>1</td>\n",
       "      <td>0</td>\n",
       "      <td>0</td>\n",
       "      <td>0</td>\n",
       "      <td>0</td>\n",
       "      <td>0</td>\n",
       "      <td>0</td>\n",
       "      <td>0</td>\n",
       "      <td>0</td>\n",
       "      <td>0</td>\n",
       "      <td>0</td>\n",
       "      <td>0</td>\n",
       "      <td>0.0</td>\n",
       "      <td>0</td>\n",
       "    </tr>\n",
       "    <tr>\n",
       "      <th>3</th>\n",
       "      <td>1055176</td>\n",
       "      <td>1</td>\n",
       "      <td>ALAVA</td>\n",
       "      <td>0</td>\n",
       "      <td>0</td>\n",
       "      <td>0</td>\n",
       "      <td>0</td>\n",
       "      <td>0</td>\n",
       "      <td>0</td>\n",
       "      <td>0</td>\n",
       "      <td>0</td>\n",
       "      <td>0</td>\n",
       "      <td>0</td>\n",
       "      <td>0</td>\n",
       "      <td>0</td>\n",
       "      <td>0</td>\n",
       "      <td>0.0</td>\n",
       "      <td>0</td>\n",
       "    </tr>\n",
       "    <tr>\n",
       "      <th>4</th>\n",
       "      <td>1052983</td>\n",
       "      <td>1</td>\n",
       "      <td>ALAVA</td>\n",
       "      <td>0</td>\n",
       "      <td>1</td>\n",
       "      <td>0</td>\n",
       "      <td>0</td>\n",
       "      <td>0</td>\n",
       "      <td>0</td>\n",
       "      <td>0</td>\n",
       "      <td>0</td>\n",
       "      <td>0</td>\n",
       "      <td>0</td>\n",
       "      <td>0</td>\n",
       "      <td>0</td>\n",
       "      <td>0</td>\n",
       "      <td>0.0</td>\n",
       "      <td>0</td>\n",
       "    </tr>\n",
       "  </tbody>\n",
       "</table>\n",
       "</div>"
      ],
      "text/plain": [
       "   Customer  Code_Province Nom_Province  0  1  2  3  4  5  6  7  8  9  10  11  \\\n",
       "0   1049129              1        ALAVA  0  1  0  0  0  0  0  0  0  0   0   0   \n",
       "1   1049988              1        ALAVA  0  1  0  0  0  0  0  0  0  0   0   0   \n",
       "2   1049457              1        ALAVA  0  1  0  0  0  0  0  0  0  0   0   0   \n",
       "3   1055176              1        ALAVA  0  0  0  0  0  0  0  0  0  0   0   0   \n",
       "4   1052983              1        ALAVA  0  1  0  0  0  0  0  0  0  0   0   0   \n",
       "\n",
       "   12   13  14  \n",
       "0   0  0.0   0  \n",
       "1   0  0.0   0  \n",
       "2   0  0.0   0  \n",
       "3   0  0.0   0  \n",
       "4   0  0.0   0  "
      ]
     },
     "execution_count": 15,
     "metadata": {},
     "output_type": "execute_result"
    }
   ],
   "source": [
    "df.head()"
   ]
  },
  {
   "cell_type": "code",
   "execution_count": 16,
   "metadata": {
    "collapsed": false
   },
   "outputs": [
    {
     "data": {
      "text/plain": [
       "array(['ALAVA', 'ALBACETE', 'ALICANTE', 'ALMERIA', 'ASTURIAS', 'AVILA',\n",
       "       'BADAJOZ', 'BALEARS', 'BARCELONA', 'BIZKAIA', 'BURGOS', 'CACERES',\n",
       "       'CADIZ', 'CANTABRIA', 'CASTELLON', 'CEUTA', 'CIUDAD REAL',\n",
       "       'CORDOBA', 'CORUNA', 'CUENCA', 'GIPUZKOA', 'GIRONA', 'GRANADA',\n",
       "       'GUADALAJARA', 'HUELVA', 'HUESCA', 'JAEN', 'LEON', 'LERIDA', 'LUGO',\n",
       "       'MADRID', 'MALAGA', 'MELILLA', 'MURCIA', 'NAVARRA', 'OURENSE',\n",
       "       'PALENCIA', 'PALMAS', 'PONTEVEDRA', 'RIOJA', 'SALAMANCA',\n",
       "       'SANTA CRUZ DE TENERIFE', 'SEGOVIA', 'SEVILLA', 'SORIA',\n",
       "       'TARRAGONA', 'TERUEL', 'TOLEDO', 'VALENCIA', 'VALLADOLID', 'ZAMORA',\n",
       "       'ZARAGOZA'], dtype=object)"
      ]
     },
     "execution_count": 16,
     "metadata": {},
     "output_type": "execute_result"
    }
   ],
   "source": [
    "np.unique(df[\"Nom_Province\"])"
   ]
  },
  {
   "cell_type": "markdown",
   "metadata": {},
   "source": [
    "#### Transform data"
   ]
  },
  {
   "cell_type": "code",
   "execution_count": 17,
   "metadata": {
    "collapsed": false
   },
   "outputs": [],
   "source": [
    "def transform(X, V):\n",
    "    \n",
    "    \"\"\" Transorm vector of carts into vector of mono-choices & co-susbscription networks \"\"\"\n",
    "    \n",
    "    # carts\n",
    "    \n",
    "    carts = [np.nonzero(x)[0] for x in X]\n",
    "    \n",
    "    # get mono-product customer choices\n",
    "    \n",
    "    y = np.array([cart[0] for cart in carts if len(cart) == 1])\n",
    "    \n",
    "    carts = [cart for cart in carts if len(cart) > 1]\n",
    "    \n",
    "    # get co-subscription network\n",
    "    \n",
    "    A = np.zeros((V,V))\n",
    "    \n",
    "    for u in range(V-1):\n",
    "        for v in range(u+1,V):\n",
    "            A[u][v] = np.sum([(u in cart) and (v in cart) for cart in carts])\n",
    "            A[u][v] /= max(np.sum([(u in cart) for cart in carts]) + np.sum([(v in cart) for cart in carts]),1)\n",
    "    \n",
    "    A = 1 * (A > 0.1)\n",
    "    A += A.T\n",
    "    \n",
    "    return y,A"
   ]
  },
  {
   "cell_type": "code",
   "execution_count": 18,
   "metadata": {
    "collapsed": false
   },
   "outputs": [],
   "source": [
    "agencies = {}\n",
    "\n",
    "for name in np.unique(df[\"Nom_Province\"]):\n",
    "    \n",
    "    # focus on a single province\n",
    "    \n",
    "    ind = np.array(df[\"Nom_Province\"] == name)\n",
    "    \n",
    "    X = df[ind].values\n",
    "    X = X[:,3:]\n",
    "    \n",
    "    # get mono-product customers choices & co-subscription networks\n",
    "    \n",
    "    y, A = transform(X, 15)\n",
    "    \n",
    "    # create agency\n",
    "    \n",
    "    a = Agency(y,A)\n",
    "    agencies[name] = a\n",
    "    "
   ]
  },
  {
   "cell_type": "markdown",
   "metadata": {},
   "source": [
    "#### Plot agencies"
   ]
  },
  {
   "cell_type": "code",
   "execution_count": 19,
   "metadata": {
    "collapsed": false
   },
   "outputs": [
    {
     "name": "stdout",
     "output_type": "stream",
     "text": [
      "AGENCY\n",
      "Number V of products: 15\n",
      "Number of mono-product customers: 268\n"
     ]
    },
    {
     "data": {
      "image/png": "[encoded data removed]",
      "text/plain": [
       "<matplotlib.figure.Figure at 0x1041c2f60>"
      ]
     },
     "metadata": {},
     "output_type": "display_data"
    }
   ],
   "source": [
    "a = agencies[\"BIZKAIA\"]\n",
    "a.plot()"
   ]
  },
  {
   "cell_type": "markdown",
   "metadata": {},
   "source": [
    "#### Save dataset"
   ]
  },
  {
   "cell_type": "code",
   "execution_count": 20,
   "metadata": {
    "collapsed": false
   },
   "outputs": [],
   "source": [
    "dataset = [agencies[name] for name in np.unique(df[\"Nom_Province\"])]"
   ]
  },
  {
   "cell_type": "code",
   "execution_count": 21,
   "metadata": {
    "collapsed": true
   },
   "outputs": [],
   "source": [
    "pd.to_pickle(dataset, \"data/data_bank\")"
   ]
  },
  {
   "cell_type": "code",
   "execution_count": null,
   "metadata": {
    "collapsed": true
   },
   "outputs": [],
   "source": []
  }
 ],
 "metadata": {
  "kernelspec": {
   "display_name": "Python 3",
   "language": "python",
   "name": "python3"
  },
  "language_info": {
   "codemirror_mode": {
    "name": "ipython",
    "version": 3
   },
   "file_extension": ".py",
   "mimetype": "text/x-python",
   "name": "python",
   "nbconvert_exporter": "python",
   "pygments_lexer": "ipython3",
   "version": "3.5.2"
  }
 },
 "nbformat": 4,
 "nbformat_minor": 1
}
